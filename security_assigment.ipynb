{
  "nbformat": 4,
  "nbformat_minor": 0,
  "metadata": {
    "colab": {
      "provenance": []
    },
    "kernelspec": {
      "name": "python3",
      "display_name": "Python 3"
    },
    "language_info": {
      "name": "python"
    }
  },
  "cells": [
    {
      "cell_type": "markdown",
      "source": [
        "# Broken Access Control:\n",
        "Snapchat in 2014 leaked 4.6 million user phone numbers because attackers had unlimited access to endpoints without authentication.\n",
        "\n",
        "Code:"
      ],
      "metadata": {
        "id": "-abmbYQemcE-"
      }
    },
    {
      "cell_type": "code",
      "execution_count": null,
      "metadata": {
        "id": "LXabpLeimR68"
      },
      "outputs": [],
      "source": [
        "\n",
        "from fastapi import FastAPI, HTTPException\n",
        "from pydantic import BaseModel\n",
        "\n",
        "app = FastAPI()\n",
        "\n",
        "# Simulating a database\n",
        "users_db = {\n",
        "    1: {\"id\": 1, \"username\": \"alice\", \"email\": \"alice@example.com\", \"is_admin\": False},\n",
        "    2: {\"id\": 2, \"username\": \"bob\", \"email\": \"bob@example.com\", \"is_admin\": False},\n",
        "    3: {\"id\": 3, \"username\": \"admin\", \"email\": \"admin@example.com\", \"is_admin\": True}\n",
        "}\n",
        "\n",
        "class UserProfile(BaseModel):\n",
        "    id: int\n",
        "    username: str\n",
        "    email: str\n",
        "    is_admin: bool\n",
        "\n",
        "# Vulnerable endpoint - No authentication check\n",
        "@app.get(\"/api/users/{user_id}\", response_model=UserProfile)\n",
        "async def get_user_profile(user_id: int):\n",
        "    if user_id not in users_db:\n",
        "        raise HTTPException(status_code=404, detail=\"User not found\")\n",
        "    return users_db[user_id]"
      ]
    },
    {
      "cell_type": "markdown",
      "source": [
        "This code allows you to brute force retrieve user information by changing the user id.\n",
        "\n",
        "To secure it,\n",
        "Authentication: Added API key authentication using FastAPI's security dependencies\n",
        "Authorization: Implemented role-based access control\n",
        "Principle of Least Privilege: Users can only access their own profiles unless they're admins\n",
        "\n",
        "FIXED VERSION:"
      ],
      "metadata": {
        "id": "PZoUIrdAmseY"
      }
    },
    {
      "cell_type": "code",
      "source": [
        "from fastapi import FastAPI, HTTPException, Depends, Security\n",
        "from fastapi.security import APIKeyHeader\n",
        "from pydantic import BaseModel\n",
        "from typing import Optional\n",
        "\n",
        "app = FastAPI()\n",
        "\n",
        "# Simulating a database\n",
        "users_db = {\n",
        "    1: {\"id\": 1, \"username\": \"alice\", \"email\": \"alice@example.com\", \"is_admin\": False},\n",
        "    2: {\"id\": 2, \"username\": \"bob\", \"email\": \"bob@example.com\", \"is_admin\": False},\n",
        "    3: {\"id\": 3, \"username\": \"admin\", \"email\": \"admin@example.com\", \"is_admin\": True}\n",
        "}\n",
        "\n",
        "# Simulating an active sessions database\n",
        "api_keys = {\n",
        "    \"user1_api_key\": 1,\n",
        "    \"user2_api_key\": 2,\n",
        "    \"admin_api_key\": 3\n",
        "}\n",
        "\n",
        "api_key_header = APIKeyHeader(name=\"X-API-Key\")\n",
        "\n",
        "class UserProfile(BaseModel):\n",
        "    id: int\n",
        "    username: str\n",
        "    email: str\n",
        "    is_admin: bool\n",
        "\n",
        "async def get_current_user(api_key: str = Depends(api_key_header)) -> Optional[dict]:\n",
        "    if api_key not in api_keys:\n",
        "        raise HTTPException(\n",
        "            status_code=401,\n",
        "            detail=\"Invalid API Key\"\n",
        "        )\n",
        "    user_id = api_keys[api_key]\n",
        "    return users_db[user_id]\n",
        "\n",
        "@app.get(\"/api/users/{user_id}\", response_model=UserProfile)\n",
        "async def get_user_profile(\n",
        "    user_id: int,\n",
        "    current_user: dict = Depends(get_current_user)\n",
        "):\n",
        "    # Check if user is requesting their own profile or is an admin\n",
        "    if current_user[\"id\"] != user_id and not current_user[\"is_admin\"]:\n",
        "        raise HTTPException(\n",
        "            status_code=403,\n",
        "            detail=\"Access denied\"\n",
        "        )\n",
        "\n",
        "    if user_id not in users_db:\n",
        "        raise HTTPException(status_code=404, detail=\"User not found\")\n",
        "\n",
        "    return users_db[user_id]"
      ],
      "metadata": {
        "id": "xTkDywhgmrOt"
      },
      "execution_count": null,
      "outputs": []
    },
    {
      "cell_type": "markdown",
      "source": [
        "Tools or processes to prevent:\n",
        "Use tools like OWASP ZAP or Burp Suite for security testing\n",
        "Implement automated security testing in CI/CD pipeline"
      ],
      "metadata": {
        "id": "vsIxr42pm2Du"
      }
    },
    {
      "cell_type": "markdown",
      "source": [
        "# Cryptographic Failures\n",
        "Equifax in 2017 had a breach affecting 143 million users because of bad key rotation, weak encryption, and unpatched vulnerabilities."
      ],
      "metadata": {
        "id": "p87eCBZ3m4dH"
      }
    },
    {
      "cell_type": "code",
      "source": [
        "from fastapi import FastAPI, HTTPException\n",
        "from pydantic import BaseModel\n",
        "import base64  # Weak encryption method\n",
        "\n",
        "app = FastAPI()\n",
        "\n",
        "# Simulating a database\n",
        "user_db = {}\n",
        "\n",
        "class User(BaseModel):\n",
        "    username: str\n",
        "    password: str\n",
        "\n",
        "# VULNERABLE: Using base64 encoding instead of proper encryption/hashing\n",
        "@app.post(\"/register\")\n",
        "async def register_user(user: User):\n",
        "    if user.username in user_db:\n",
        "        raise HTTPException(status_code=400, detail=\"Username already exists\")\n",
        "\n",
        "    # VULNERABLE: Using base64 encoding which is reversible and not secure\n",
        "    encoded_password = base64.b64encode(user.password.encode()).decode()\n",
        "    user_db[user.username] = encoded_password\n",
        "    return {\"message\": \"User registered successfully\"}\n",
        "\n",
        "@app.post(\"/login\")\n",
        "async def login_user(user: User):\n",
        "    if user.username not in user_db:\n",
        "        raise HTTPException(status_code=400, detail=\"User not found\")\n",
        "\n",
        "    stored_password = user_db[user.username]\n",
        "    encoded_attempt = base64.b64encode(user.password.encode()).decode()\n",
        "\n",
        "    if stored_password == encoded_attempt:\n",
        "        return {\"message\": \"Login successful\"}\n",
        "    raise HTTPException(status_code=401, detail=\"Invalid credentials\")"
      ],
      "metadata": {
        "id": "SN38CloYm-ny"
      },
      "execution_count": null,
      "outputs": []
    },
    {
      "cell_type": "markdown",
      "source": [
        "This code has improper password handling and storage. It uses base64 encoding and it doesn’t have salting.\n",
        "\n",
        "\n",
        "Here is the fixed version:"
      ],
      "metadata": {
        "id": "ZBwmp34-nCEk"
      }
    },
    {
      "cell_type": "code",
      "source": [
        "from fastapi import FastAPI, HTTPException\n",
        "from pydantic import BaseModel\n",
        "from passlib.context import CryptContext\n",
        "import secrets\n",
        "\n",
        "app = FastAPI()\n",
        "\n",
        "# Proper password hashing configuration\n",
        "pwd_context = CryptContext(schemes=[\"bcrypt\"], deprecated=\"auto\")\n",
        "\n",
        "# Simulating a database\n",
        "user_db = {}\n",
        "\n",
        "class User(BaseModel):\n",
        "    username: str\n",
        "    password: str\n",
        "\n",
        "@app.post(\"/register\")\n",
        "async def register_user(user: User):\n",
        "    if user.username in user_db:\n",
        "        raise HTTPException(status_code=400, detail=\"Username already exists\")\n",
        "\n",
        "    # Secure: Using proper password hashing with salt\n",
        "    hashed_password = pwd_context.hash(user.password)\n",
        "    user_db[user.username] = hashed_password\n",
        "    return {\"message\": \"User registered successfully\"}\n",
        "\n",
        "@app.post(\"/login\")\n",
        "async def login_user(user: User):\n",
        "    if user.username not in user_db:\n",
        "        raise HTTPException(status_code=400, detail=\"User not found\")\n",
        "\n",
        "    stored_password = user_db[user.username]\n",
        "    if pwd_context.verify(user.password, stored_password):\n",
        "        return {\"message\": \"Login successful\"}\n",
        "    raise HTTPException(status_code=401, detail=\"Invalid credentials\")"
      ],
      "metadata": {
        "id": "NfK2w88nnIar"
      },
      "execution_count": null,
      "outputs": []
    },
    {
      "cell_type": "markdown",
      "source": [
        "This uses bcrypt which does salt generation.\n",
        "\n",
        "Some tools are static analysis tools like bandit or sonarqube for security scanning.\n",
        "\n"
      ],
      "metadata": {
        "id": "kjcH19zznLVe"
      }
    },
    {
      "cell_type": "markdown",
      "source": [
        "# Injection\n",
        "In 2023 ResumeLooters successfully used SQL injection attacks to steal over 2 million user records across 65 different websites.\n"
      ],
      "metadata": {
        "id": "_DWn_9xonQud"
      }
    },
    {
      "cell_type": "code",
      "source": [
        "from flask import Flask\n",
        "from flask_sqlalchemy import SQLAlchemy\n",
        "\n",
        "app = Flask(__name__)\n",
        "app.config['SQLALCHEMY_DATABASE_URI'] = 'sqlite:///users.db'\n",
        "db = SQLAlchemy(app)\n",
        "\n",
        "@app.route('/users/<id>')\n",
        "def get_user(id):\n",
        "    # Vulnerable SQL query\n",
        "    sql = f\"SELECT * FROM users WHERE id = {id}\"\n",
        "    result = db.engine.execute(sql)\n",
        "    return {\"users\": [dict(row) for row in result]}"
      ],
      "metadata": {
        "id": "6wwyMB58nUNW"
      },
      "execution_count": null,
      "outputs": []
    },
    {
      "cell_type": "markdown",
      "source": [
        "This directly interpolates user input into a SQL query which could be exploited.\n",
        "\n",
        "Here is the fixed version:\n"
      ],
      "metadata": {
        "id": "yMWI1bXenXXk"
      }
    },
    {
      "cell_type": "code",
      "source": [
        "from flask import Flask, jsonify\n",
        "from flask_sqlalchemy import SQLAlchemy\n",
        "\n",
        "app = Flask(__name__)\n",
        "app.config['SQLALCHEMY_DATABASE_URI'] = 'sqlite:///users.db'\n",
        "db = SQLAlchemy(app)\n",
        "\n",
        "class User(db.Model):\n",
        "    id = db.Column(db.Integer, primary_key=True)\n",
        "    username = db.Column(db.String(80))\n",
        "\n",
        "@app.route('/users/<int:id>')\n",
        "def get_user(id):\n",
        "    # Safe parameterized query\n",
        "    user = User.query.filter_by(id=id).first()\n",
        "    return jsonify({\"id\": user.id, \"username\": user.username})"
      ],
      "metadata": {
        "id": "4WJiKQG6nZ-F"
      },
      "execution_count": null,
      "outputs": []
    },
    {
      "cell_type": "markdown",
      "source": [
        "This uses parameterized queries to prevent that.\n",
        "\n",
        "Some processes or tools are input validation and sanitation. By implementing strict input validation and using parameterized queries you can prevent injection.\n"
      ],
      "metadata": {
        "id": "kzjYN1r-mTTu"
      }
    }
  ]
}